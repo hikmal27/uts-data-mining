{
 "cells": [
  {
   "cell_type": "code",
   "execution_count": 70,
   "id": "ccf026ad-2632-49b3-8f8e-9abfbbb4daf6",
   "metadata": {},
   "outputs": [],
   "source": [
    "# data\n",
    "\n",
    "company_name_list = [{'name': 'Company 1'},\n",
    "          {'name': 'Company 2'},\n",
    "          {'name': 'Company 3'}]\n",
    "\n",
    "employee_name_list = [{'name': 'John Doe'},\n",
    "          {'name': 'Tom Smith'},\n",
    "          {'name': 'Andrew Sebastian'}]\n",
    "\n",
    "company_detail_list = {\n",
    "      'Company 1': {\n",
    "          'name': 'Company 1',\n",
    "          'domain': 'Retail',\n",
    "          'clients': [\n",
    "              {\n",
    "                  'name': 'acme.inc',\n",
    "                  'country': 'united states'\n",
    "              },\n",
    "              {\n",
    "                  'name': 'Wayne.co',\n",
    "                  'country': 'united states'\n",
    "              }\n",
    "          ]\n",
    "      },\n",
    "      'Company 2': {\n",
    "          'name': 'Company 2',\n",
    "          'domain': 'Construction',\n",
    "          'clients': [\n",
    "              {\n",
    "                  'name': 'Tesla',\n",
    "                  'country': 'united states'\n",
    "              },\n",
    "              {\n",
    "                  'name': 'Japan Airlines',\n",
    "                  'country': 'japan'\n",
    "              },\n",
    "              {\n",
    "                  'name': 'Indofood',\n",
    "                  'country': 'indonesia'\n",
    "              }\n",
    "          ]\n",
    "      },\n",
    "      'Company 3': {\n",
    "          'name': 'Company 3',\n",
    "          'domain': 'Healthcare',\n",
    "          'clients': [\n",
    "              {\n",
    "                  'name': 'Petronas',\n",
    "                  'country': 'malaysia'\n",
    "              },\n",
    "              {\n",
    "                  'name': 'VW Group',\n",
    "                  'country': 'germany'\n",
    "              },\n",
    "              {\n",
    "                  'name': 'IBM',\n",
    "                  'country': 'united states'\n",
    "              },\n",
    "              {\n",
    "                  'name': 'Mitsubishi',\n",
    "                  'country': 'japan'\n",
    "              }\n",
    "          ]\n",
    "      }\n",
    "  }\n",
    "\n",
    "employee_detail_list = {\n",
    "      'John Doe': {\n",
    "          'name': 'EMP-0001',\n",
    "          'first_name': 'John',\n",
    "          'last_name': 'Doe',\n",
    "          'full_name': 'John Doe',\n",
    "          'company': 'Company 1'\n",
    "      },\n",
    "      'Tom Smith': {\n",
    "          'name': 'EMP-0002',\n",
    "          'first_name': 'Tom',\n",
    "          'last_name': 'Smith',\n",
    "          'full_name': 'Tom Smith',\n",
    "          'company': 'Company 2'\n",
    "      },\n",
    "      'Andrew Sebastian': {\n",
    "          'name': 'EMP-0003',\n",
    "          'first_name': 'Andrew',\n",
    "          'last_name': 'Sebastian',\n",
    "          'full_name': 'Andrew Sebastian',\n",
    "          'company': 'Company 2'\n",
    "      },\n",
    "  }"
   ]
  },
  {
   "cell_type": "code",
   "execution_count": 71,
   "id": "02e8d0cf-103b-49fe-8e85-7ccfa3801667",
   "metadata": {},
   "outputs": [],
   "source": [
    "# 1\n",
    "# Mengurutkan list company"
   ]
  },
  {
   "cell_type": "code",
   "execution_count": 72,
   "id": "c79169c9-939b-4493-9b27-8c50fe1e01fa",
   "metadata": {},
   "outputs": [
    {
     "name": "stdout",
     "output_type": "stream",
     "text": [
      "[\n",
      "    {\n",
      "        \"name\": \"Company 1\",\n",
      "        \"domain\": \"Retail\"\n",
      "    },\n",
      "    {\n",
      "        \"name\": \"Company 3\",\n",
      "        \"domain\": \"Healthcare\"\n",
      "    },\n",
      "    {\n",
      "        \"name\": \"Company 2\",\n",
      "        \"domain\": \"Construction\"\n",
      "    }\n",
      "]\n"
     ]
    }
   ],
   "source": [
    "import json\n",
    "\n",
    "def sort_company():\n",
    "    return [{\"name\": company['name'], \"domain\": company['domain']} for company in sorted(company_detail_list.values(), key=lambda x: x['domain'], reverse = True)]\n",
    "\n",
    "print(json.dumps(sort_company(), indent=4))"
   ]
  },
  {
   "cell_type": "code",
   "execution_count": 73,
   "id": "94400163-4807-4423-9072-eb186fe923fd",
   "metadata": {},
   "outputs": [],
   "source": [
    "# 2\n",
    "# List semua nilai atau value dari Domain"
   ]
  },
  {
   "cell_type": "code",
   "execution_count": 74,
   "id": "2985e4fc-f5d2-44af-a23d-81751fdf5e99",
   "metadata": {},
   "outputs": [
    {
     "name": "stdout",
     "output_type": "stream",
     "text": [
      "Company 1: Retail, relation: 2 clients\n",
      "Company 2: Construction, relation: 3 clients\n",
      "Company 3: Healthcare, relation: 4 clients\n"
     ]
    }
   ],
   "source": [
    "company_names = [company['name'] for company in company_name_list]\n",
    "\n",
    "def get_company_domain():\n",
    "    result = [ f\"{company_name}: {company_details['domain']}, relation: {len(company_details['clients'])} clients\" for company_name in company_names if (company_details := company_detail_list.get(company_name)) ]\n",
    "    for output in result:\n",
    "        print(output)\n",
    "\n",
    "get_company_domain()"
   ]
  },
  {
   "cell_type": "code",
   "execution_count": null,
   "id": "e98dbd7a-4744-478e-9d07-d54120652780",
   "metadata": {},
   "outputs": [],
   "source": [
    "# 3\n",
    "# List pegawai perusahaan beserta nama perusahaan nya"
   ]
  },
  {
   "cell_type": "code",
   "execution_count": 75,
   "id": "a80e299e-a13e-4dd6-802a-7e10aebadd8d",
   "metadata": {},
   "outputs": [
    {
     "name": "stdout",
     "output_type": "stream",
     "text": [
      "[\n",
      "    {\n",
      "        \"full_name\": \"John Doe\",\n",
      "        \"company\": \"Company 1\",\n",
      "        \"domain\": \"Retail\"\n",
      "    },\n",
      "    {\n",
      "        \"full_name\": \"Tom Smith\",\n",
      "        \"company\": \"Company 2\",\n",
      "        \"domain\": \"Construction\"\n",
      "    },\n",
      "    {\n",
      "        \"full_name\": \"Andrew Sebastian\",\n",
      "        \"company\": \"Company 2\",\n",
      "        \"domain\": \"Construction\"\n",
      "    }\n",
      "]\n"
     ]
    }
   ],
   "source": [
    "def get_employees():\n",
    "    employees_with_domain = [ {\"full_name\": emp['full_name'], \"company\": emp['company'], \"domain\": company_detail_list[emp['company']]['domain'] } for emp in employee_detail_list.values() ]\n",
    "    return employees_with_domains\n",
    "\n",
    "print(json.dumps(get_employees(), indent=4))"
   ]
  },
  {
   "cell_type": "code",
   "execution_count": null,
   "id": "7ec6afea-d4ab-4d07-b1f3-9da50ae0eef0",
   "metadata": {},
   "outputs": [],
   "source": [
    "# 4\n",
    "# List perusahaan dan pegawai yang bekerja di perusahaan tersebut"
   ]
  },
  {
   "cell_type": "code",
   "execution_count": 87,
   "id": "59297b2b-17b0-45ba-8e21-e9483e6004ea",
   "metadata": {},
   "outputs": [
    {
     "name": "stdout",
     "output_type": "stream",
     "text": [
      "[\n",
      "    {\n",
      "        \"company\": \"Company 1\",\n",
      "        \"employees\": [\n",
      "            \"John Doe\"\n",
      "        ]\n",
      "    },\n",
      "    {\n",
      "        \"company\": \"Company 2\",\n",
      "        \"employees\": [\n",
      "            \"Tom Smith\",\n",
      "            \"Andrew Sebastian\"\n",
      "        ]\n",
      "    },\n",
      "    {\n",
      "        \"company\": \"Company 3\",\n",
      "        \"employees\": []\n",
      "    }\n",
      "]\n"
     ]
    }
   ],
   "source": [
    "def get_employees_by_company():\n",
    "    companies_with_employees = [\n",
    "        {\"company\": company['name'], \"employees\": [employee['full_name'] for employee in employee_detail_list.values() if employee['company'] == company['name']]}\n",
    "        for company in company_name_list\n",
    "    ]\n",
    "    return companies_with_employees\n",
    "\n",
    "print(json.dumps(get_employees_by_company(), indent=4))"
   ]
  },
  {
   "cell_type": "code",
   "execution_count": null,
   "id": "5d150bbd-d752-4ddb-a03d-37c17eaa4a26",
   "metadata": {},
   "outputs": [],
   "source": []
  }
 ],
 "metadata": {
  "kernelspec": {
   "display_name": "Python 3 (ipykernel)",
   "language": "python",
   "name": "python3"
  },
  "language_info": {
   "codemirror_mode": {
    "name": "ipython",
    "version": 3
   },
   "file_extension": ".py",
   "mimetype": "text/x-python",
   "name": "python",
   "nbconvert_exporter": "python",
   "pygments_lexer": "ipython3",
   "version": "3.11.7"
  }
 },
 "nbformat": 4,
 "nbformat_minor": 5
}
